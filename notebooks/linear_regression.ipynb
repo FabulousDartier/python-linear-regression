{
 "cells": [
  {
   "cell_type": "code",
   "execution_count": 12,
   "id": "af3b429e",
   "metadata": {},
   "outputs": [],
   "source": [
    "import numpy as np\n",
    "import matplotlib.pyplot as plt\n",
    "import pandas as pd"
   ]
  },
  {
   "cell_type": "code",
   "execution_count": 22,
   "id": "89b4c2c1",
   "metadata": {},
   "outputs": [
    {
     "name": "stdout",
     "output_type": "stream",
     "text": [
      "   Unnamed: 0  YearsExperience   Salary\n",
      "0           0              1.2  39344.0\n",
      "1           1              1.4  46206.0\n",
      "2           2              1.6  37732.0\n",
      "3           3              2.1  43526.0\n",
      "4           4              2.3  39892.0\n"
     ]
    },
    {
     "data": {
      "text/plain": [
       "array([[ 0. ,  1.2],\n",
       "       [ 1. ,  1.4],\n",
       "       [ 2. ,  1.6],\n",
       "       [ 3. ,  2.1],\n",
       "       [ 4. ,  2.3],\n",
       "       [ 5. ,  3. ],\n",
       "       [ 6. ,  3.1],\n",
       "       [ 7. ,  3.3],\n",
       "       [ 8. ,  3.3],\n",
       "       [ 9. ,  3.8],\n",
       "       [10. ,  4. ],\n",
       "       [11. ,  4.1],\n",
       "       [12. ,  4.1],\n",
       "       [13. ,  4.2],\n",
       "       [14. ,  4.6],\n",
       "       [15. ,  5. ],\n",
       "       [16. ,  5.2],\n",
       "       [17. ,  5.4],\n",
       "       [18. ,  6. ],\n",
       "       [19. ,  6.1],\n",
       "       [20. ,  6.9],\n",
       "       [21. ,  7.2],\n",
       "       [22. ,  8. ],\n",
       "       [23. ,  8.3],\n",
       "       [24. ,  8.8],\n",
       "       [25. ,  9.1],\n",
       "       [26. ,  9.6],\n",
       "       [27. ,  9.7],\n",
       "       [28. , 10.4],\n",
       "       [29. , 10.6]])"
      ]
     },
     "execution_count": 22,
     "metadata": {},
     "output_type": "execute_result"
    }
   ],
   "source": [
    "# Load the dataset\n",
    "path = \"C:/Users/trngd/InternalDoc/code_projects/python-linear-regression/dataset\"\n",
    "training_set = pd.read_csv(f'{path}/Salary_dataset.csv')\n",
    "\n",
    "# Display the first few rows of the dataset\n",
    "print(training_set.head())\n",
    "\n",
    "# Extracting the independent variable (Years of Experience) and dependent variable (Salary)\n",
    "x_train = training_set.iloc[:, :-1].values  # All rows, all columns except the last (features)\n",
    "y_train = training_set.iloc[:, -1].values   # All rows, only the last column (target variable)\n",
    "\n",
    "print(\"Features (X_train):\")\n",
    "print(x_train)\n",
    "print(\"\\nTarget variable (y_train):\")\n",
    "print(y_train)"
   ]
  }
 ],
 "metadata": {
  "kernelspec": {
   "display_name": "Python 3 (ipykernel)",
   "language": "python",
   "name": "python3"
  },
  "language_info": {
   "codemirror_mode": {
    "name": "ipython",
    "version": 3
   },
   "file_extension": ".py",
   "mimetype": "text/x-python",
   "name": "python",
   "nbconvert_exporter": "python",
   "pygments_lexer": "ipython3",
   "version": "3.11.9"
  }
 },
 "nbformat": 4,
 "nbformat_minor": 5
}
